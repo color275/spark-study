{
 "cells": [
  {
   "cell_type": "code",
   "execution_count": null,
   "id": "76d2d864",
   "metadata": {},
   "outputs": [],
   "source": [
    "# DataFrame, Stream"
   ]
  },
  {
   "cell_type": "code",
   "execution_count": 1,
   "id": "a8022c64-43ed-4418-8bf8-a3ab690f18c0",
   "metadata": {
    "tags": []
   },
   "outputs": [
    {
     "data": {
      "text/plain": [
       "'/Users/chiholee/02.Project/spark/spark'"
      ]
     },
     "execution_count": 1,
     "metadata": {},
     "output_type": "execute_result"
    }
   ],
   "source": [
    "import findspark\n",
    "findspark.init()\n",
    "findspark.find()"
   ]
  },
  {
   "cell_type": "code",
   "execution_count": 2,
   "id": "406ba76a",
   "metadata": {},
   "outputs": [],
   "source": [
    "import os\n",
    "os.environ['AWS_ACCESS_KEY_ID'] = \"\"\n",
    "os.environ['AWS_SECRET_ACCESS_KEY'] = \"\"\n",
    "os.environ['AWS_DEFAULT_REGION'] = \"\""
   ]
  },
  {
   "cell_type": "code",
   "execution_count": 90,
   "id": "e41ef3ba-aa4a-49b4-8ced-7c13c80fbf5e",
   "metadata": {
    "tags": []
   },
   "outputs": [],
   "source": [
    "from pyspark.sql import SparkSession\n",
    "\n",
    "# Create a Spark session\n",
    "spark = SparkSession.builder \\\n",
    "    .appName(\"Read S3 Parquet\") \\\n",
    "    .getOrCreate()"
   ]
  },
  {
   "cell_type": "code",
   "execution_count": 5,
   "id": "3ee6f6d2-1df7-4c1c-8dc2-1fb42c162e0f",
   "metadata": {
    "tags": []
   },
   "outputs": [],
   "source": [
    "spark.conf.set(\"spark.hadoop.fs.s3a.endpoint\", \"s3.ap-northeast-2.amazonaws.com\")\n",
    "spark.conf.set(\"spark.hadoop.fs.s3a.impl\",\n",
    "               \"org.apache.hadoop.fs.s3a.S3AFileSystem\")\n"
   ]
  },
  {
   "cell_type": "code",
   "execution_count": 24,
   "id": "93c83931-9116-4475-a3d4-186df30f952b",
   "metadata": {
    "tags": []
   },
   "outputs": [],
   "source": [
    "df = spark.read \\\n",
    "    .format(\"parquet\") \\\n",
    "    .option(\"header\", True) \\\n",
    "    .load(\"s3a://seminar-s3/accesslog/2023/04/02/10/\")\n",
    "    # .load(\"s3a://seminar-s3/accesslog/2023/04/02/10/seminar-firehose-1-2023-04-02-10-24-55-9a49154d-e4f1-418f-9e4e-a154418b39c9.parquet\")\n",
    "\n",
    "    "
   ]
  },
  {
   "cell_type": "code",
   "execution_count": 26,
   "id": "a3115948",
   "metadata": {},
   "outputs": [
    {
     "data": {
      "text/plain": [
       "StructType([StructField('timestamp', TimestampType(), True), StructField('client_ip', StringType(), True), StructField('cust_id', LongType(), True), StructField('prd_id', LongType(), True), StructField('service', StringType(), True), StructField('http_referer', StringType(), True), StructField('dt', StringType(), True)])"
      ]
     },
     "execution_count": 26,
     "metadata": {},
     "output_type": "execute_result"
    }
   ],
   "source": [
    "dataSchema = df.schema\n",
    "dataSchema"
   ]
  },
  {
   "cell_type": "code",
   "execution_count": 41,
   "id": "96fe069a",
   "metadata": {},
   "outputs": [],
   "source": [
    "streaming = spark.readStream\\\n",
    "                .schema(dataSchema)\\\n",
    "                .load(\"s3a://seminar-s3/accesslog/2023/04/02/10/\")\n"
   ]
  },
  {
   "cell_type": "code",
   "execution_count": 67,
   "id": "7f7c811a",
   "metadata": {},
   "outputs": [],
   "source": [
    "spark.conf.set(\"spark.sql.adaptive.enabled\",False)"
   ]
  },
  {
   "cell_type": "code",
   "execution_count": 98,
   "id": "51227050",
   "metadata": {},
   "outputs": [],
   "source": [
    "streaming.createOrReplaceTempView(\"accesslog\")"
   ]
  },
  {
   "cell_type": "code",
   "execution_count": 115,
   "id": "f29bf504",
   "metadata": {},
   "outputs": [
    {
     "name": "stdout",
     "output_type": "stream",
     "text": [
      "23/04/02 20:26:35 WARN ResolveWriteToStream: Temporary checkpoint location created which is deleted normally when the query didn't fail: /private/var/folders/wg/dx6n4cld3kg_d3gcthzc01km0000gr/T/temporary-b05163ee-123f-4530-877e-4f94ce712e8a. If it's required to delete it under any circumstances, please set spark.sql.streaming.forceDeleteTempCheckpointLocation to true. Important to know deleting temp checkpoint folder is best effort.\n"
     ]
    },
    {
     "name": "stderr",
     "output_type": "stream",
     "text": [
      "[Stage 1204:=====================>                              (84 + 10) / 200]\r"
     ]
    }
   ],
   "source": [
    "test_01 = spark.sql(\"\"\"\n",
    "select service customer_click, count(*) cnt\n",
    "from accesslog\n",
    "group by service\n",
    "order by cnt\n",
    "\"\"\").writeStream \\\n",
    "    .outputMode(\"complete\") \\\n",
    "    .format(\"memory\") \\\n",
    "    .queryName(\"sql_02\") \\\n",
    "    .start()\n",
    "    # .start().awaitTermination()"
   ]
  },
  {
   "cell_type": "code",
   "execution_count": 118,
   "id": "dcb0b25d",
   "metadata": {},
   "outputs": [
    {
     "name": "stdout",
     "output_type": "stream",
     "text": [
      "+--------------+-----+\n",
      "|customer_click|  cnt|\n",
      "+--------------+-----+\n",
      "|         order|  129|\n",
      "|        review| 1370|\n",
      "|        basket| 2266|\n",
      "|         click|18145|\n",
      "+--------------+-----+\n",
      "\n"
     ]
    },
    {
     "data": {
      "text/plain": [
       "None"
      ]
     },
     "metadata": {},
     "output_type": "display_data"
    },
    {
     "ename": "KeyboardInterrupt",
     "evalue": "",
     "output_type": "error",
     "traceback": [
      "\u001b[0;31m---------------------------------------------------------------------------\u001b[0m",
      "\u001b[0;31mKeyboardInterrupt\u001b[0m                         Traceback (most recent call last)",
      "Cell \u001b[0;32mIn[118], line 7\u001b[0m\n\u001b[1;32m      5\u001b[0m clear_output(wait\u001b[39m=\u001b[39m\u001b[39mTrue\u001b[39;00m)\n\u001b[1;32m      6\u001b[0m display(spark\u001b[39m.\u001b[39msql(\u001b[39m'\u001b[39m\u001b[39mSELECT customer_click, cnt FROM sql_02\u001b[39m\u001b[39m'\u001b[39m)\u001b[39m.\u001b[39mshow())\n\u001b[0;32m----> 7\u001b[0m time\u001b[39m.\u001b[39;49msleep(\u001b[39m1\u001b[39;49m)\n",
      "\u001b[0;31mKeyboardInterrupt\u001b[0m: "
     ]
    }
   ],
   "source": [
    "from IPython.display import display, clear_output\n",
    "import time\n",
    "\n",
    "while True:\n",
    "    clear_output(wait=True)\n",
    "    display(spark.sql('SELECT customer_click, cnt FROM sql_02').show())\n",
    "    time.sleep(1)"
   ]
  },
  {
   "cell_type": "code",
   "execution_count": null,
   "id": "17312b72",
   "metadata": {},
   "outputs": [],
   "source": []
  },
  {
   "cell_type": "code",
   "execution_count": null,
   "id": "89091b7f",
   "metadata": {},
   "outputs": [],
   "source": []
  },
  {
   "cell_type": "code",
   "execution_count": null,
   "id": "deebd755",
   "metadata": {},
   "outputs": [],
   "source": []
  },
  {
   "cell_type": "code",
   "execution_count": null,
   "id": "563c4562",
   "metadata": {},
   "outputs": [],
   "source": []
  },
  {
   "cell_type": "code",
   "execution_count": null,
   "id": "bbe880a1",
   "metadata": {},
   "outputs": [],
   "source": []
  }
 ],
 "metadata": {
  "kernelspec": {
   "display_name": "Python 3 (ipykernel)",
   "language": "python",
   "name": "python3"
  },
  "language_info": {
   "codemirror_mode": {
    "name": "ipython",
    "version": 3
   },
   "file_extension": ".py",
   "mimetype": "text/x-python",
   "name": "python",
   "nbconvert_exporter": "python",
   "pygments_lexer": "ipython3",
   "version": "3.8.10"
  }
 },
 "nbformat": 4,
 "nbformat_minor": 5
}
