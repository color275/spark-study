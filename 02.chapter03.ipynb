{
 "cells": [
  {
   "cell_type": "code",
   "execution_count": null,
   "id": "76d2d864",
   "metadata": {},
   "outputs": [],
   "source": [
    "# DataFrame, Stream"
   ]
  },
  {
   "cell_type": "code",
   "execution_count": 1,
   "id": "a8022c64-43ed-4418-8bf8-a3ab690f18c0",
   "metadata": {
    "tags": []
   },
   "outputs": [
    {
     "data": {
      "text/plain": [
       "'/Users/chiholee/02.Project/spark/spark'"
      ]
     },
     "execution_count": 1,
     "metadata": {},
     "output_type": "execute_result"
    }
   ],
   "source": [
    "import findspark\n",
    "findspark.init()\n",
    "findspark.find()"
   ]
  },
  {
   "cell_type": "code",
   "execution_count": 2,
   "id": "406ba76a",
   "metadata": {},
   "outputs": [],
   "source": [
    "import os\n",
    "os.environ['AWS_ACCESS_KEY_ID'] = \"\"\n",
    "os.environ['AWS_SECRET_ACCESS_KEY'] = \"\"\n",
    "os.environ['AWS_DEFAULT_REGION'] = \"\""
   ]
  },
  {
   "cell_type": "code",
   "execution_count": 3,
   "id": "e41ef3ba-aa4a-49b4-8ced-7c13c80fbf5e",
   "metadata": {
    "tags": []
   },
   "outputs": [
    {
     "name": "stderr",
     "output_type": "stream",
     "text": [
      "Setting default log level to \"WARN\".\n",
      "To adjust logging level use sc.setLogLevel(newLevel). For SparkR, use setLogLevel(newLevel).\n"
     ]
    },
    {
     "name": "stdout",
     "output_type": "stream",
     "text": [
      "23/04/06 10:24:22 WARN NativeCodeLoader: Unable to load native-hadoop library for your platform... using builtin-java classes where applicable\n"
     ]
    }
   ],
   "source": [
    "from pyspark.sql import SparkSession\n",
    "\n",
    "# Create a Spark session\n",
    "spark = SparkSession.builder \\\n",
    "    .appName(\"Read S3 Parquet\") \\\n",
    "    .getOrCreate()"
   ]
  },
  {
   "cell_type": "code",
   "execution_count": 4,
   "id": "3ee6f6d2-1df7-4c1c-8dc2-1fb42c162e0f",
   "metadata": {
    "tags": []
   },
   "outputs": [],
   "source": [
    "spark.conf.set(\"spark.hadoop.fs.s3a.endpoint\", \"s3.ap-northeast-2.amazonaws.com\")\n",
    "spark.conf.set(\"spark.hadoop.fs.s3a.impl\",\n",
    "               \"org.apache.hadoop.fs.s3a.S3AFileSystem\")\n"
   ]
  },
  {
   "cell_type": "code",
   "execution_count": 5,
   "id": "93c83931-9116-4475-a3d4-186df30f952b",
   "metadata": {
    "tags": []
   },
   "outputs": [
    {
     "name": "stdout",
     "output_type": "stream",
     "text": [
      "23/04/06 10:24:23 WARN MetricsConfig: Cannot locate configuration: tried hadoop-metrics2-s3a-file-system.properties,hadoop-metrics2.properties\n"
     ]
    },
    {
     "name": "stderr",
     "output_type": "stream",
     "text": [
      "                                                                                \r"
     ]
    }
   ],
   "source": [
    "df = spark.read \\\n",
    "    .format(\"parquet\") \\\n",
    "    .option(\"header\", True) \\\n",
    "    .load(\"s3a://seminar-s3/accesslog/2023/04/06/00/\")\n",
    "    "
   ]
  },
  {
   "cell_type": "code",
   "execution_count": 6,
   "id": "a3115948",
   "metadata": {},
   "outputs": [
    {
     "data": {
      "text/plain": [
       "StructType([StructField('timestamp', TimestampType(), True), StructField('client_ip', StringType(), True), StructField('cust_id', LongType(), True), StructField('prd_id', LongType(), True), StructField('service', StringType(), True), StructField('http_referer', StringType(), True), StructField('dt', StringType(), True)])"
      ]
     },
     "execution_count": 6,
     "metadata": {},
     "output_type": "execute_result"
    }
   ],
   "source": [
    "dataSchema = df.schema\n",
    "dataSchema"
   ]
  },
  {
   "cell_type": "code",
   "execution_count": 7,
   "id": "4586ba5d",
   "metadata": {},
   "outputs": [
    {
     "name": "stderr",
     "output_type": "stream",
     "text": [
      "[Stage 2:>                                                          (0 + 8) / 8]\r"
     ]
    },
    {
     "name": "stdout",
     "output_type": "stream",
     "text": [
      "+------+-------+---+\n",
      "|prd_id|service|cnt|\n",
      "+------+-------+---+\n",
      "|     8|  order|666|\n",
      "|     6|  order|663|\n",
      "|     5|  order|660|\n",
      "|     4|  order|658|\n",
      "|     1|  order|652|\n",
      "|     7|  order|645|\n",
      "|     2|  order|637|\n",
      "|     3|  order|632|\n",
      "|     9|  order|623|\n",
      "+------+-------+---+\n",
      "\n"
     ]
    },
    {
     "name": "stderr",
     "output_type": "stream",
     "text": [
      "                                                                                \r"
     ]
    }
   ],
   "source": [
    "df = spark.read \\\n",
    "    .format(\"parquet\") \\\n",
    "    .option(\"header\", True) \\\n",
    "    .load(\"s3a://seminar-s3/accesslog/2023/04/06/01/\")\n",
    "\n",
    "df.createOrReplaceTempView(\"df_accesslog\")\n",
    "\n",
    "# spark.sql(\"\"\"\n",
    "# select service customer_click, count(*) cnt\n",
    "# from df_accesslog\n",
    "# group by service\n",
    "# order by cnt\n",
    "# \"\"\").show()\n",
    "\n",
    "spark.sql(\"\"\"\n",
    "select prd_id, service, count(*) cnt\n",
    "from df_accesslog\n",
    "where prd_id <= 10\n",
    "and service = 'order'\n",
    "group by prd_id, service\n",
    "order by cnt desc;\n",
    "\"\"\").show()\n"
   ]
  },
  {
   "cell_type": "code",
   "execution_count": 8,
   "id": "96fe069a",
   "metadata": {},
   "outputs": [
    {
     "name": "stdout",
     "output_type": "stream",
     "text": [
      "23/04/06 10:24:37 WARN ResolveWriteToStream: Temporary checkpoint location created which is deleted normally when the query didn't fail: /private/var/folders/wg/dx6n4cld3kg_d3gcthzc01km0000gr/T/temporary-ca5baee5-c25e-44f5-96d7-eb9fee8246fa. If it's required to delete it under any circumstances, please set spark.sql.streaming.forceDeleteTempCheckpointLocation to true. Important to know deleting temp checkpoint folder is best effort.\n",
      "23/04/06 10:24:37 WARN ResolveWriteToStream: spark.sql.adaptive.enabled is not supported in streaming DataFrames/Datasets and will be disabled.\n"
     ]
    },
    {
     "name": "stderr",
     "output_type": "stream",
     "text": [
      "                                                                                \r"
     ]
    }
   ],
   "source": [
    "import time\n",
    "from IPython.display import display, clear_output\n",
    "\n",
    "sql_title = \"sql_14\"\n",
    "\n",
    "streaming = spark.readStream\\\n",
    "                .schema(dataSchema)\\\n",
    "                .load(\"s3a://seminar-s3/accesslog/2023/04/06/01/\")\n",
    "\n",
    "streaming.createOrReplaceTempView(\"stream_accesslog\")\n",
    "\n",
    "# spark.conf.set(\"spark.sql.adaptive.enabled\", False)\n",
    "\n",
    "test_01 = spark.sql(\"\"\"\n",
    "select prd_id, service, count(*) cnt\n",
    "from stream_accesslog\n",
    "where prd_id <= 10\n",
    "and service = 'order'\n",
    "group by prd_id, service\n",
    "order by cnt desc\n",
    "\"\"\").writeStream \\\n",
    "    .outputMode(\"complete\") \\\n",
    "    .format(\"memory\") \\\n",
    "    .queryName(sql_title) \\\n",
    "    .start()\n",
    "# .start().awaitTermination()\n",
    "\n"
   ]
  },
  {
   "cell_type": "code",
   "execution_count": 9,
   "id": "68669a6d",
   "metadata": {},
   "outputs": [
    {
     "name": "stdout",
     "output_type": "stream",
     "text": [
      "+------+-------+---+\n",
      "|prd_id|service|cnt|\n",
      "+------+-------+---+\n",
      "|     4|  order|725|\n",
      "|     6|  order|721|\n",
      "|     8|  order|718|\n",
      "|     5|  order|714|\n",
      "|     1|  order|707|\n",
      "|     3|  order|692|\n",
      "|     2|  order|690|\n",
      "|     7|  order|686|\n",
      "|     9|  order|678|\n",
      "+------+-------+---+\n",
      "\n"
     ]
    },
    {
     "data": {
      "text/plain": [
       "None"
      ]
     },
     "metadata": {},
     "output_type": "display_data"
    },
    {
     "ename": "KeyboardInterrupt",
     "evalue": "",
     "output_type": "error",
     "traceback": [
      "\u001b[0;31m---------------------------------------------------------------------------\u001b[0m",
      "\u001b[0;31mKeyboardInterrupt\u001b[0m                         Traceback (most recent call last)",
      "Cell \u001b[0;32mIn[9], line 4\u001b[0m\n\u001b[1;32m      2\u001b[0m clear_output(wait\u001b[39m=\u001b[39m\u001b[39mTrue\u001b[39;00m)\n\u001b[1;32m      3\u001b[0m display(spark\u001b[39m.\u001b[39msql(\u001b[39m'\u001b[39m\u001b[39mSELECT * FROM \u001b[39m\u001b[39m'\u001b[39m\u001b[39m+\u001b[39msql_title)\u001b[39m.\u001b[39mshow())\n\u001b[0;32m----> 4\u001b[0m time\u001b[39m.\u001b[39;49msleep(\u001b[39m5\u001b[39;49m)\n",
      "\u001b[0;31mKeyboardInterrupt\u001b[0m: "
     ]
    }
   ],
   "source": [
    "\n",
    "while True:\n",
    "    clear_output(wait=True)\n",
    "    display(spark.sql('SELECT * FROM '+sql_title).show())\n",
    "    time.sleep(5)\n"
   ]
  },
  {
   "cell_type": "code",
   "execution_count": null,
   "id": "55c436a2",
   "metadata": {},
   "outputs": [],
   "source": []
  }
 ],
 "metadata": {
  "kernelspec": {
   "display_name": "Python 3 (ipykernel)",
   "language": "python",
   "name": "python3"
  },
  "language_info": {
   "codemirror_mode": {
    "name": "ipython",
    "version": 3
   },
   "file_extension": ".py",
   "mimetype": "text/x-python",
   "name": "python",
   "nbconvert_exporter": "python",
   "pygments_lexer": "ipython3",
   "version": "3.8.10"
  }
 },
 "nbformat": 4,
 "nbformat_minor": 5
}
